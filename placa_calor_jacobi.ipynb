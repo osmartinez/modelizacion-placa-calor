{
  "nbformat": 4,
  "nbformat_minor": 0,
  "metadata": {
    "colab": {
      "name": "placa-calor-jacobi.ipynb",
      "version": "0.3.2",
      "provenance": [],
      "collapsed_sections": [],
      "include_colab_link": true
    },
    "kernelspec": {
      "name": "python3",
      "display_name": "Python 3"
    }
  },
  "cells": [
    {
      "cell_type": "markdown",
      "metadata": {
        "id": "view-in-github",
        "colab_type": "text"
      },
      "source": [
        "<a href=\"https://colab.research.google.com/github/osmartinez/modelizacion-placa-calor/blob/master/placa_calor_jacobi.ipynb\" target=\"_parent\"><img src=\"https://colab.research.google.com/assets/colab-badge.svg\" alt=\"Open In Colab\"/></a>"
      ]
    },
    {
      "cell_type": "markdown",
      "metadata": {
        "id": "vAc0WAhrmuFQ",
        "colab_type": "text"
      },
      "source": [
        "## **Método de Jacobi. Propósito general**"
      ]
    },
    {
      "cell_type": "code",
      "metadata": {
        "id": "oQvhcxkW7Ihy",
        "colab_type": "code",
        "colab": {}
      },
      "source": [
        "import numpy as np\n",
        "import math"
      ],
      "execution_count": 0,
      "outputs": []
    },
    {
      "cell_type": "code",
      "metadata": {
        "id": "R-V4Xrj-xR-r",
        "colab_type": "code",
        "colab": {}
      },
      "source": [
        "'''\n",
        "Función que descompone A\n",
        "D + R = A\n",
        "'''\n",
        "def descomponer_matriz(A):\n",
        "  p,q = A.shape\n",
        "  D = np.zeros(shape=(p,q))\n",
        "  R= np.zeros(shape=(p,q))\n",
        "  \n",
        "  for i in range(p):\n",
        "    for j in range(q):\n",
        "      if i == j:\n",
        "        D[i][j] = A[i][j]\n",
        "        R[i][j] = 0\n",
        "      else:\n",
        "        D[i][j] = 0\n",
        "        R[i][j] = A[i][j]\n",
        "  \n",
        "  return D,R"
      ],
      "execution_count": 0,
      "outputs": []
    },
    {
      "cell_type": "code",
      "metadata": {
        "id": "8bONpqKhOJL1",
        "colab_type": "code",
        "colab": {}
      },
      "source": [
        "'''\n",
        "Función que invierte una matriz diagonal D\n",
        "'''\n",
        "def invertir_diagonal(D):\n",
        "  p,q = D.shape\n",
        "  D_inv = np.zeros(shape=(p,q))\n",
        "  \n",
        "  for i in range(p):\n",
        "    for j in range (q):\n",
        "      if i == j:\n",
        "        D_inv[i][j] = 1/D[i][j]\n",
        "        \n",
        "  return D_inv"
      ],
      "execution_count": 0,
      "outputs": []
    },
    {
      "cell_type": "code",
      "metadata": {
        "id": "sm-0hqveO_qK",
        "colab_type": "code",
        "colab": {}
      },
      "source": [
        "'''\n",
        "Aplica método de Jacobi al sistema de ecuaciones Ax=b,\n",
        "descomponiendo A en R+D\n",
        "Utiliza como criterio de parada un número N de iteraciones\n",
        "'''\n",
        "def do_jacobi_secuencial_descomp_n(A, b, N=100):\n",
        "  dim_b = b.shape\n",
        "  dim_A = A.shape\n",
        "  p,q = dim_A\n",
        "  \n",
        "  if(dim_b[0] != dim_A[0]):\n",
        "    raise Exception('Dimensiones no compatibles')\n",
        "  \n",
        "  D,R = descomponer_matriz(A)\n",
        "  D_inv = invertir_diagonal(D)\n",
        "  \n",
        "  sol = np.zeros(shape=dim_b)\n",
        "  \n",
        "  # itero N veces el método\n",
        "  for n in range(N):\n",
        "    sol = np.dot(D_inv, (b- np.dot(R,sol)) )\n",
        "  \n",
        "  return sol"
      ],
      "execution_count": 0,
      "outputs": []
    },
    {
      "cell_type": "code",
      "metadata": {
        "id": "Gpsnk9MNU8M4",
        "colab_type": "code",
        "colab": {}
      },
      "source": [
        "'''\n",
        "Aplica método de Jacobi secuencialmente al sistema Ax= b,\n",
        "sin descomposición\n",
        "Utiliza como criterio de parada N iteraciones\n",
        "'''\n",
        "def do_jacobi_secuencial_n(A, b, N=100):\n",
        "  p,q = A.shape\n",
        "  dim_b = b.shape\n",
        "  \n",
        "  if(dim_b[0] != p):\n",
        "    raise Exception('Dimensiones no compatibles')\n",
        "    \n",
        "  sol = np.zeros(shape = dim_b)\n",
        "  \n",
        "  for n in range(N):\n",
        "    for i in range (p):\n",
        "      elemento_diag= A[i][i]\n",
        "      numerador = b[i]\n",
        "      for j in range(q):\n",
        "        if j == i:\n",
        "          continue\n",
        "        numerador-=A[i][j]*sol[j]\n",
        "      sol[i] = numerador/elemento_diag\n",
        "  return sol"
      ],
      "execution_count": 0,
      "outputs": []
    },
    {
      "cell_type": "code",
      "metadata": {
        "id": "Yo-Vhu9zZnkh",
        "colab_type": "code",
        "colab": {}
      },
      "source": [
        "'''\n",
        "Aplica método de Jacobi secuencialmente al sistema Ax= b,\n",
        "sin descomposición\n",
        "Utiliza como criterio de parada N iteraciones o tolerancia al error\n",
        "'''\n",
        "def do_jacobi_secuencial_n_tol(A, b, N=100, tol=1e-10):\n",
        "  p,q = A.shape\n",
        "  dim_b = b.shape\n",
        "  \n",
        "  if(dim_b[0] != p):\n",
        "    raise Exception('Dimensiones no compatibles')\n",
        "    \n",
        "  sol = np.zeros(shape = dim_b)\n",
        "  sol_actual = np.zeros(shape = dim_b)\n",
        "  \n",
        "  for n in range(N):\n",
        "    for i in range (p):\n",
        "      elemento_diag= A[i][i]\n",
        "      numerador = b[i]\n",
        "      for j in range(q):\n",
        "        if j == i:\n",
        "          continue\n",
        "        numerador-=A[i][j]*sol[j]\n",
        "      sol_actual[i] = numerador/elemento_diag\n",
        "      \n",
        "    suma =0\n",
        "    for i in range (p):\n",
        "      suma += math.sqrt(math.pow(sol_actual[i]-sol[i],2))\n",
        "      sol[i] = sol_actual[i]\n",
        "    \n",
        "    if suma<tol:\n",
        "      print('Tolerancia alcanzada! Iteración:'+str(n))\n",
        "      break      \n",
        "      \n",
        "  return sol"
      ],
      "execution_count": 0,
      "outputs": []
    },
    {
      "cell_type": "code",
      "metadata": {
        "id": "8CRfd94cuAWF",
        "colab_type": "code",
        "colab": {
          "base_uri": "https://localhost:8080/",
          "height": 87
        },
        "outputId": "0b382a4a-8eb4-4410-b9b8-1d6751b3a75d"
      },
      "source": [
        "A = np.array([[5,2,1,1],\n",
        "              [2,6,2,1],\n",
        "              [1,2,7,1],\n",
        "              [1,1,2,8]])\n",
        "\n",
        "b = np.array([29,31,26,19])\n",
        "\n",
        "print (do_jacobi_secuencial_n_tol(A,b,100,1e-11))\n",
        "print (do_jacobi_secuencial_descomp_n(A,b,100))\n",
        "print (do_jacobi_secuencial_n(A,b,100))"
      ],
      "execution_count": 134,
      "outputs": [
        {
          "output_type": "stream",
          "text": [
            "Tolerancia alcanzada! Iteración:75\n",
            "[3.99275362 2.95410628 2.16183575 0.96618357]\n",
            "[3.99275362 2.95410628 2.16183575 0.96618357]\n",
            "[3.99275362 2.95410628 2.16183575 0.96618357]\n"
          ],
          "name": "stdout"
        }
      ]
    },
    {
      "cell_type": "markdown",
      "metadata": {
        "id": "bD4SGmwTnGqD",
        "colab_type": "text"
      },
      "source": [
        "## **Método de Jacobi. Adaptación al problema de la placa de calor**\n",
        "\n",
        "\n",
        "\n",
        "A continuación se desarrolla el código necesario para la aplicación del método (secuencial) de Jacobi al problema de la placa de calor.\n",
        "\n",
        "\n",
        "\n",
        "\n",
        "\n"
      ]
    },
    {
      "cell_type": "code",
      "metadata": {
        "id": "D-O9G4anxQA8",
        "colab_type": "code",
        "colab": {}
      },
      "source": [
        "'''\n",
        "Definición de constantes.\n",
        "Se definen las temperaturas de los extremos de la placa\n",
        "'''\n",
        "t_izq = 2.0\n",
        "t_ab = 1.0\n",
        "t_dcha = 0.0\n",
        "t_ar = 0.0\n"
      ],
      "execution_count": 0,
      "outputs": []
    },
    {
      "cell_type": "code",
      "metadata": {
        "id": "KBbKf7va4XkC",
        "colab_type": "code",
        "colab": {}
      },
      "source": [
        "'''\n",
        "Función que dice si una matriz es estrictamente diagonal dominante\n",
        "'''\n",
        "def es_diagonal_dominante(A):\n",
        "    abs_A = np.abs(A)\n",
        "    return np.all( 2*np.diag(abs_A) >= np.sum(abs_A, axis=1) )"
      ],
      "execution_count": 0,
      "outputs": []
    },
    {
      "cell_type": "code",
      "metadata": {
        "id": "vS5OQ6BMyOLV",
        "colab_type": "code",
        "colab": {}
      },
      "source": [
        "'''\n",
        "Creamos la matriz A en Ax=b\n",
        "p y q son las dimensiones de la placa de calor\n",
        "'''\n",
        "def crear_sistema(p,q):\n",
        "  A = np.zeros(shape=(p*q,q*p))\n",
        "  for i in range(p*q):\n",
        "    A[i][i] = 1.0\n",
        "    \n",
        "  for j in range(p):\n",
        "    for k in range(q):\n",
        "      if j>1:\n",
        "        A[(k-1)*p+j][(k-1)*p+j-1] = -1.0/4\n",
        "      if j<p:\n",
        "        A[(k-1)*p+j][(k-1)*p+j+1] = -1.0/4\n",
        "      if k>1:\n",
        "        A[(k-1)*p+j][(k-2)*p+j] = -1.0/4\n",
        "      if k<q:\n",
        "        A[(k-1)*p+j][k*p+j] = -1.0/4\n",
        "  \n",
        "  if es_diagonal_dominante(A):\n",
        "    print('La matriz generada es estrictamente diagonal dominante')\n",
        "    \n",
        "    \n",
        "  b = np.zeros(shape=(p*q))\n",
        "  b[0] = t_izq/4 + t_ar/4\n",
        "  b[p] = t_dcha/4 + t_ar/4\n",
        "  b[(q-1)*p] = t_izq/4 + t_ab/4\n",
        "  b[p*q-1] = t_dcha/4 + t_ab/4\n",
        "  for j in range(2,p-1):\n",
        "    b[j] = t_ar/4\n",
        "    b[(q-1)*p+j] = t_ab/4\n",
        "  for k in range(2,q-1):\n",
        "    b[(k-1)*p+1] = t_izq/4\n",
        "    b[k*p]=t_dcha/4\n",
        "    \n",
        "  \n",
        "  vector_inv_diag = np.zeros(shape= (p*q))\n",
        "  for j in range(p*q):\n",
        "    vector_inv_diag[j] = 1/A[j][j]\n",
        "  \n",
        "  return A,b,vector_inv_diag"
      ],
      "execution_count": 0,
      "outputs": []
    },
    {
      "cell_type": "code",
      "metadata": {
        "id": "rde-kV4xuHzk",
        "colab_type": "code",
        "colab": {
          "base_uri": "https://localhost:8080/",
          "height": 1439
        },
        "outputId": "5a9cc2d0-c363-4df8-9e5a-07238a11cd20"
      },
      "source": [
        "A,b,vector_inv_diag = crear_sistema(20,20)\n",
        "do_jacobi_secuencial_n_err(A,b,100000)"
      ],
      "execution_count": 211,
      "outputs": [
        {
          "output_type": "stream",
          "text": [
            "La matriz generada es estrictamente diagonal dominante\n",
            "Tolerancia alcanzada! Iteración:2041\n"
          ],
          "name": "stdout"
        },
        {
          "output_type": "execute_result",
          "data": {
            "text/plain": [
              "array([0.76669475, 0.39369739, 0.39220051, 0.33026799, 0.27260998,\n",
              "       0.22785169, 0.19425395, 0.16909226, 0.15026692, 0.13636387,\n",
              "       0.12649027, 0.12014092, 0.11713133, 0.11760209, 0.12211713,\n",
              "       0.13193372, 0.14966997, 0.18104681, 0.23990171, 0.36424781,\n",
              "       0.6730816 , 1.18258904, 0.84483666, 0.65626146, 0.53232025,\n",
              "       0.44454281, 0.38007186, 0.33184816, 0.29561154, 0.26869831,\n",
              "       0.2494563 , 0.23694207, 0.23078231, 0.23115989, 0.23893272,\n",
              "       0.25594776, 0.28569936, 0.33461555, 0.41431222, 0.54400793,\n",
              "       0.74304261, 1.49182209, 1.14829565, 0.91762094, 0.75586675,\n",
              "       0.63792744, 0.54964254, 0.48261697, 0.43163277, 0.39336151,\n",
              "       0.36569456, 0.34738876, 0.33789594, 0.33732245, 0.34650609,\n",
              "       0.36722527, 0.40256414, 0.4574038 , 0.5387237 , 0.65442909,\n",
              "       0.80726674, 1.63640368, 1.33890291, 1.11005988, 0.93559838,\n",
              "       0.80165767, 0.69795387, 0.61734441, 0.55494106, 0.50742041,\n",
              "       0.47257167, 0.44902245, 0.43609027, 0.43372787, 0.44254391,\n",
              "       0.46388308, 0.49992814, 0.55371183, 0.62874967, 0.72771798,\n",
              "       0.84962068, 1.71488971, 1.46085244, 1.24811729, 1.07480922,\n",
              "       0.93515099, 0.82317088, 0.73386573, 0.66336666, 0.60880739,\n",
              "       0.56814927, 0.54003909, 0.52371481, 0.51895486, 0.52605859,\n",
              "       0.54583501, 0.5795535 , 0.6287657 , 0.69484519, 0.77807246,\n",
              "       0.87632627, 1.76230273, 1.54149983, 1.34674763, 1.18037023,\n",
              "       1.04096617, 0.92571292, 0.83158099, 0.75585244, 0.69629323,\n",
              "       0.65117894, 0.61926982, 0.59977502, 0.59231817, 0.5969006 ,\n",
              "       0.61384487, 0.64368515, 0.68695229, 0.74379292, 0.81340041,\n",
              "       0.89338167, 1.79282139, 1.59609653, 1.41700318, 1.25895789,\n",
              "       1.12263054, 1.00713365, 0.91089285, 0.8321689 , 0.76933414,\n",
              "       0.72100343, 0.68608624, 0.66379729, 0.6536422 , 0.65538076,\n",
              "       0.66895872, 0.69438993, 0.73156539, 0.7799738 , 0.8383546 ,\n",
              "       0.90437903, 1.81288629, 1.63306173, 1.46621066, 1.31582761,\n",
              "       1.18346445, 1.0692983 , 0.97268788, 0.89259616, 0.827871  ,\n",
              "       0.77741439, 0.74027443, 0.71568568, 0.70307257, 0.70202151,\n",
              "       0.71221931, 0.73335047, 0.76494556, 0.80618227, 0.85566515,\n",
              "       0.91124815, 1.82566203, 1.65705343, 1.49895012, 1.35467743,\n",
              "       1.22610135, 1.11390722, 1.01796419, 0.93765686, 0.87213933,\n",
              "       0.82050869, 0.78191142, 0.75559844, 0.7409409 , 0.73741341,\n",
              "       0.74454655, 0.76184708, 0.78868409, 0.82414459, 0.86687556,\n",
              "       0.91495154, 1.8327084 , 1.67053985, 1.51785898, 1.37783063,\n",
              "       1.25235629, 1.14226504, 1.04760481, 0.96792776, 0.90252076,\n",
              "       0.85056961, 0.81126411, 0.78385577, 0.76767918, 0.76214467,\n",
              "       0.76670639, 0.78080723, 0.80379913, 0.83483644, 0.87274098,\n",
              "       0.91584962, 1.83463172, 1.67453859, 1.52411531, 1.38642983,\n",
              "       1.26322815, 1.15519185, 1.06226223, 0.98392862, 0.91944634,\n",
              "       0.86798489, 0.82871964, 0.80088134, 0.78377539, 0.77677969,\n",
              "       0.77932713, 0.7908763 , 0.81086875, 0.83866105, 0.87340228,\n",
              "       0.91381523, 1.83127988, 1.66886748, 1.51763384, 1.38054523,\n",
              "       1.25893463, 1.15301198, 1.06232364, 0.98607816, 0.92335109,\n",
              "       0.87320397, 0.83474822, 0.80717455, 0.78976136, 0.78187157,\n",
              "       0.78294614, 0.79250208, 0.81013854, 0.83553673, 0.86839188,\n",
              "       0.90813141, 1.82162033, 1.65201761, 1.49700734, 1.35918262,\n",
              "       1.23895315, 1.1355978 , 1.04794217, 0.97470929, 0.91467589,\n",
              "       0.86673169, 0.82989472, 0.80330728, 0.78622393, 0.77799909,\n",
              "       0.77808378, 0.78604736, 0.80164658, 0.82495544, 0.85649711,\n",
              "       0.89709007, 1.80318382, 1.62057529, 1.45919529, 1.32022477,\n",
              "       1.20209753, 1.10248391, 1.01913797, 0.95014095, 0.89391148,\n",
              "       0.84915217, 0.8147917 , 0.78993592, 0.77382798, 0.76581708,\n",
              "       0.76534254, 0.77195698, 0.785445  , 0.80614134, 0.83555104,\n",
              "       0.87704507, 1.77053965, 1.56790442, 1.39897377, 1.26042364,\n",
              "       1.14672831, 1.05310235, 0.97598483, 0.91280506, 0.8616769 ,\n",
              "       0.82117381, 0.79018399, 0.76781671, 0.75333499, 0.7460987 ,\n",
              "       0.74551234, 0.75099299, 0.76203512, 0.77861388, 0.80252062,\n",
              "       0.84055057, 1.71107038, 1.48152898, 1.30837174, 1.1757677 ,\n",
              "       1.07128969, 0.98721236, 0.91889394, 0.86341755, 0.81881727,\n",
              "       0.78368218, 0.75695373, 0.73781195, 0.72559658, 0.71973039,\n",
              "       0.71961512, 0.72446755, 0.73308859, 0.74375844, 0.75536701,\n",
              "       0.77408681, 1.59221289, 1.33876936, 1.17721652, 1.06298574,\n",
              "       0.9754504 , 0.90556347, 0.848961  , 0.80315395, 0.76649245,\n",
              "       0.73778391, 0.71613681, 0.70088078, 0.69150898, 0.68761116,\n",
              "       0.68875022, 0.69417347, 0.70209328, 0.70796426, 0.70110218,\n",
              "       0.66358378, 1.31901181, 1.10411907, 0.99873922, 0.92350835,\n",
              "       0.8619627 , 0.81063011, 0.76823266, 0.7337448 , 0.70621465,\n",
              "       0.6848242 , 0.66892882, 0.65806537, 0.65194742, 0.65045504,\n",
              "       0.65360112, 0.66138283, 0.67314678, 0.68490315, 0.67749366,\n",
              "       0.56123652, 0.57971527, 0.75995588, 0.79011295, 0.77034573,\n",
              "       0.73826194, 0.7067616 , 0.67959473, 0.65737794, 0.63979715,\n",
              "       0.62636942, 0.6166889 , 0.61050446, 0.60776029, 0.60866044,\n",
              "       0.61381641, 0.62460996, 0.64420787, 0.6810079 , 0.7627328 ,\n",
              "       1.00164704, 0.2398934 , 0.56587622, 0.63141097, 0.62949967,\n",
              "       0.61397774, 0.59855961, 0.58600673, 0.57637506, 0.56922659,\n",
              "       0.56416744, 0.56095291, 0.55950327, 0.55992885, 0.56261002,\n",
              "       0.56839412, 0.57903273, 0.59806683, 0.63218778, 0.69078258])"
            ]
          },
          "metadata": {
            "tags": []
          },
          "execution_count": 211
        }
      ]
    },
    {
      "cell_type": "code",
      "metadata": {
        "id": "LaaIHRahuI9N",
        "colab_type": "code",
        "colab": {}
      },
      "source": [
        ""
      ],
      "execution_count": 0,
      "outputs": []
    },
    {
      "cell_type": "code",
      "metadata": {
        "id": "GfsFgnfqz-ex",
        "colab_type": "code",
        "colab": {}
      },
      "source": [
        "\n"
      ],
      "execution_count": 0,
      "outputs": []
    },
    {
      "cell_type": "code",
      "metadata": {
        "id": "LNr26jv0Mg04",
        "colab_type": "code",
        "colab": {}
      },
      "source": [
        ""
      ],
      "execution_count": 0,
      "outputs": []
    }
  ]
}