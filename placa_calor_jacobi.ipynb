{
  "nbformat": 4,
  "nbformat_minor": 0,
  "metadata": {
    "colab": {
      "name": "placa-calor-jacobi.ipynb",
      "version": "0.3.2",
      "provenance": [],
      "include_colab_link": true
    },
    "kernelspec": {
      "name": "python3",
      "display_name": "Python 3"
    }
  },
  "cells": [
    {
      "cell_type": "markdown",
      "metadata": {
        "id": "view-in-github",
        "colab_type": "text"
      },
      "source": [
        "<a href=\"https://colab.research.google.com/github/osmartinez/modelizacion-placa-calor/blob/master/placa_calor_jacobi.ipynb\" target=\"_parent\"><img src=\"https://colab.research.google.com/assets/colab-badge.svg\" alt=\"Open In Colab\"/></a>"
      ]
    },
    {
      "cell_type": "code",
      "metadata": {
        "id": "oQvhcxkW7Ihy",
        "colab_type": "code",
        "colab": {}
      },
      "source": [
        "import numpy as np\n",
        "import math"
      ],
      "execution_count": 0,
      "outputs": []
    },
    {
      "cell_type": "code",
      "metadata": {
        "id": "R-V4Xrj-xR-r",
        "colab_type": "code",
        "colab": {}
      },
      "source": [
        "'''\n",
        "Función que descompone A\n",
        "D + R = A\n",
        "'''\n",
        "def descomponer_matriz(A):\n",
        "  p,q = A.shape\n",
        "  D = np.zeros(shape=(p,q))\n",
        "  R= np.zeros(shape=(p,q))\n",
        "  \n",
        "  for i in range(p):\n",
        "    for j in range(q):\n",
        "      if i == j:\n",
        "        D[i][j] = A[i][j]\n",
        "        R[i][j] = 0\n",
        "      else:\n",
        "        D[i][j] = 0\n",
        "        R[i][j] = A[i][j]\n",
        "  \n",
        "  return D,R"
      ],
      "execution_count": 0,
      "outputs": []
    },
    {
      "cell_type": "code",
      "metadata": {
        "id": "8bONpqKhOJL1",
        "colab_type": "code",
        "colab": {}
      },
      "source": [
        "'''\n",
        "Matriz que invierte una matriz diagonal D\n",
        "'''\n",
        "def invertir_diagonal(D):\n",
        "  p,q = D.shape\n",
        "  D_inv = np.zeros(shape=(p,q))\n",
        "  \n",
        "  for i in range(p):\n",
        "    for j in range (q):\n",
        "      if i == j:\n",
        "        D_inv[i][j] = 1/D[i][j]\n",
        "        \n",
        "  return D_inv"
      ],
      "execution_count": 0,
      "outputs": []
    },
    {
      "cell_type": "code",
      "metadata": {
        "id": "sm-0hqveO_qK",
        "colab_type": "code",
        "colab": {}
      },
      "source": [
        "'''\n",
        "Aplica método de Jacobi al sistema de ecuaciones Ax=b,\n",
        "descomponiendo A en R+D\n",
        "Utiliza como criterio de parada un número N de iteraciones\n",
        "'''\n",
        "def do_jacobi_secuencial_descomp_n(A, b, N=100):\n",
        "  dim_b = b.shape\n",
        "  dim_A = A.shape\n",
        "  p,q = dim_A\n",
        "  \n",
        "  if(dim_b[0] != dim_A[0]):\n",
        "    raise Exception('Dimensiones no compatibles')\n",
        "  \n",
        "  D,R = descomponer_matriz(A)\n",
        "  D_inv = invertir_diagonal(D)\n",
        "  \n",
        "  sol = np.zeros(shape=dim_b)\n",
        "  \n",
        "  # itero N veces el método\n",
        "  for n in range(N):\n",
        "    sol = np.dot(D_inv, (b- np.dot(R,sol)) )\n",
        "  \n",
        "  return sol"
      ],
      "execution_count": 0,
      "outputs": []
    },
    {
      "cell_type": "code",
      "metadata": {
        "id": "Gpsnk9MNU8M4",
        "colab_type": "code",
        "colab": {}
      },
      "source": [
        "'''\n",
        "Aplica método de Jacobi secuencialmente al sistema Ax= b,\n",
        "sin descomposición\n",
        "Utiliza como criterio de parada N iteraciones\n",
        "'''\n",
        "def do_jacobi_secuencial_n(A, b, N=100):\n",
        "  p,q = A.shape\n",
        "  dim_b = b.shape\n",
        "  \n",
        "  if(dim_b[0] != p):\n",
        "    raise Exception('Dimensiones no compatibles')\n",
        "    \n",
        "  sol = np.zeros(shape = dim_b)\n",
        "  \n",
        "  for n in range(N):\n",
        "    for i in range (p):\n",
        "      elemento_diag= A[i][i]\n",
        "      numerador = b[i]\n",
        "      for j in range(q):\n",
        "        if j == i:\n",
        "          continue\n",
        "        numerador-=A[i][j]*sol[j]\n",
        "      sol[i] = numerador/elemento_diag\n",
        "  return sol"
      ],
      "execution_count": 0,
      "outputs": []
    },
    {
      "cell_type": "code",
      "metadata": {
        "id": "Yo-Vhu9zZnkh",
        "colab_type": "code",
        "colab": {}
      },
      "source": [
        "'''\n",
        "Aplica método de Jacobi secuencialmente al sistema Ax= b,\n",
        "sin descomposición\n",
        "Utiliza como criterio de parada N iteraciones o tolerancia al error\n",
        "'''\n",
        "def do_jacobi_secuencial_n_tol(A, b, N=100, tol=1e-10):\n",
        "  p,q = A.shape\n",
        "  dim_b = b.shape\n",
        "  \n",
        "  if(dim_b[0] != p):\n",
        "    raise Exception('Dimensiones no compatibles')\n",
        "    \n",
        "  sol = np.zeros(shape = dim_b)\n",
        "  sol_actual = np.zeros(shape = dim_b)\n",
        "  \n",
        "  for n in range(N):\n",
        "    for i in range (p):\n",
        "      elemento_diag= A[i][i]\n",
        "      numerador = b[i]\n",
        "      for j in range(q):\n",
        "        if j == i:\n",
        "          continue\n",
        "        numerador-=A[i][j]*sol[j]\n",
        "      sol_actual[i] = numerador/elemento_diag\n",
        "      \n",
        "    suma =0\n",
        "    for i in range (p):\n",
        "      suma += math.sqrt(math.pow(sol_actual[i]-sol[i],2))\n",
        "      sol[i] = sol_actual[i]\n",
        "    \n",
        "    if suma<tol:\n",
        "      print('Tolerancia alcanzada! Iteración:'+str(n))\n",
        "      break      \n",
        "      \n",
        "  return sol"
      ],
      "execution_count": 0,
      "outputs": []
    },
    {
      "cell_type": "code",
      "metadata": {
        "id": "8CRfd94cuAWF",
        "colab_type": "code",
        "colab": {
          "base_uri": "https://localhost:8080/",
          "height": 87
        },
        "outputId": "0b382a4a-8eb4-4410-b9b8-1d6751b3a75d"
      },
      "source": [
        "A = np.array([[5,2,1,1],\n",
        "              [2,6,2,1],\n",
        "              [1,2,7,1],\n",
        "              [1,1,2,8]])\n",
        "\n",
        "b = np.array([29,31,26,19])\n",
        "\n",
        "print (do_jacobi_secuencial_n_tol(A,b,100,1e-11))\n",
        "print (do_jacobi_secuencial_descomp_n(A,b,100))\n",
        "print (do_jacobi_secuencial_n(A,b,100))"
      ],
      "execution_count": 134,
      "outputs": [
        {
          "output_type": "stream",
          "text": [
            "Tolerancia alcanzada! Iteración:75\n",
            "[3.99275362 2.95410628 2.16183575 0.96618357]\n",
            "[3.99275362 2.95410628 2.16183575 0.96618357]\n",
            "[3.99275362 2.95410628 2.16183575 0.96618357]\n"
          ],
          "name": "stdout"
        }
      ]
    },
    {
      "cell_type": "code",
      "metadata": {
        "id": "D-O9G4anxQA8",
        "colab_type": "code",
        "colab": {}
      },
      "source": [
        "\n"
      ],
      "execution_count": 0,
      "outputs": []
    },
    {
      "cell_type": "code",
      "metadata": {
        "id": "vS5OQ6BMyOLV",
        "colab_type": "code",
        "colab": {}
      },
      "source": [
        ""
      ],
      "execution_count": 0,
      "outputs": []
    }
  ]
}